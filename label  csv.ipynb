{
 "cells": [
  {
   "cell_type": "code",
   "execution_count": 3,
   "metadata": {},
   "outputs": [
    {
     "name": "stdout",
     "output_type": "stream",
     "text": [
      "CSV file writing finished\n"
     ]
    }
   ],
   "source": [
    "import os\n",
    "import librosa as lib\n",
    "import numpy as np\n",
    "from os.path import isfile,join,isdir\n",
    "mypath =\"C:/Users/Suraj Patil/Documents/project/AudioData\"\n",
    "f_file=open('audiodata.csv','w')\n",
    "for f in os.listdir(mypath):\n",
    "    filePath=join(mypath,f)\n",
    "\n",
    "    if(isdir(filePath)):\n",
    "        for audioFile in os.listdir(filePath):\n",
    "            audioFilePath=join(filePath,audioFile)\n",
    "            if(isfile(audioFilePath) and audioFilePath.endswith('.wav')):\n",
    "                #print(audioFile)\n",
    "                x,fs =lib.load(audioFilePath)\n",
    "                features=lib.feature.mfcc(x,fs,n_mfcc=20).T\n",
    "                mfcc=list(np.mean(features, axis=0))\n",
    "                std_col= list(np.std(features, axis=0))\n",
    "                mfcc.extend(std_col)\n",
    "                audiofile= audioFile.strip('.wav')\n",
    "                files= audiofile.split('-')  \n",
    "                gender=f.split('Actor_')\n",
    "             \n",
    "                             \n",
    "                \n",
    "                for i in files:\n",
    "                    f_file.write('{i},'.format(i=i))                    \n",
    "                \n",
    "                for mf in mfcc:\n",
    "                    f_file.write('{mf},'.format(mf=mf))\n",
    "                for g in gender:\n",
    "                    \n",
    "                    f_file.write('{g},'.format(g=g))\n",
    "                if(g=='01' or g=='03' or g=='05' or g=='07' or g=='09' or g=='11' or g=='13' or g=='15' or g=='17' or g=='19' or g=='21' or g=='23' or g=='25' or g=='27'):\n",
    "                        f_file.write('male')\n",
    "                else:\n",
    "                        f_file.write('female')\n",
    "                \n",
    "                emot=audiofile[7]\n",
    "                #print(emot)\n",
    "                    \n",
    "                if (emot=='1'):\n",
    "                        f_file.write('_neutral')\n",
    "                elif(emot=='2'):\n",
    "                        f_file.write('_calm')\n",
    "                elif(emot=='3'):\n",
    "                        f_file.write('_happy')\n",
    "                elif(emot=='4'):\n",
    "                        f_file.write('_sad')\n",
    "                elif(emot=='5'):\n",
    "                        f_file.write('_angry')\n",
    "                elif(emot=='6'):\n",
    "                        f_file.write('_fearful')\n",
    "                elif(emot=='7'):\n",
    "                        f_file.write('_disgust')\n",
    "                else:\n",
    "                        f_file.write('_surprised')       \n",
    "                \n",
    "                \n",
    "                \n",
    " \n",
    "                        \n",
    "                \n",
    "                \n",
    "                f_file.write('\\n')\n",
    "                \n",
    "print(\"CSV file writing finished\")\n",
    "                    "
   ]
  },
  {
   "cell_type": "code",
   "execution_count": null,
   "metadata": {},
   "outputs": [],
   "source": [
    "mf_std = [];\n",
    "for i in range(1,21):\n",
    "    y='mf'\n",
    "    #print(s + str(y))\n",
    "    #s1=[f'{y}{i}']\n",
    "    mf_std.append(y+str(i))\n",
    "    \n",
    "for i in range(1,21):\n",
    "    y='std'\n",
    "    #print(s + str(y))\n",
    "    #s1=[f'{y}{i}']\n",
    "    mf_std.append(y+str(i))\n",
    "    \n",
    "mf_std.append('Emotion')\n",
    "print(mf_std)\n"
   ]
  },
  {
   "cell_type": "code",
   "execution_count": 31,
   "metadata": {},
   "outputs": [
    {
     "name": "stdout",
     "output_type": "stream",
     "text": [
      "(1439, 41)\n"
     ]
    }
   ],
   "source": [
    "Cov = pd.read_csv('final_data1.csv')\n",
    "print(Cov.shape)\n",
    "Cov.columns=mf_std\n",
    "#print(Cov.head())\n"
   ]
  },
  {
   "cell_type": "code",
   "execution_count": 36,
   "metadata": {},
   "outputs": [
    {
     "name": "stdout",
     "output_type": "stream",
     "text": [
      "          mf1        mf2       mf3        mf4       mf5       mf6       mf7  \\\n",
      "0 -693.069755  55.734569 -1.919739  16.408997  8.449357  0.220737 -1.738341   \n",
      "1 -691.770194  58.350647 -0.165160  13.952124  5.053322  1.489326 -2.397430   \n",
      "2 -685.237871  56.236698  2.453112  13.566656  6.701948  3.341494 -1.895053   \n",
      "3 -727.317945  62.764397  2.751275  15.473257  7.763116  2.330714 -3.641682   \n",
      "4 -707.553478  67.097729  1.909365  11.530988  9.399662  1.415027 -4.764856   \n",
      "\n",
      "        mf8        mf9      mf10  ...       std13     std14     std15  \\\n",
      "0 -4.931290 -11.981821 -0.993779  ...    9.367203  7.764121  7.033525   \n",
      "1 -5.059065 -10.638002 -3.344197  ...   10.003891  6.568298  7.357720   \n",
      "2 -6.673817 -10.671633 -2.946320  ...    7.497983  7.060039  7.060078   \n",
      "3 -3.367344 -10.113078 -4.470085  ...    8.008257  7.623511  6.078535   \n",
      "4 -4.333334  -8.645219 -4.472896  ...    8.255268  7.140914  5.476581   \n",
      "\n",
      "      std16      std17     std18     std19     std20       Emotion  code  \n",
      "0  4.796658   9.809094  4.848904  6.797552  4.111359  male_neutral    13  \n",
      "1  4.934187   8.746377  5.828598  5.494219  3.750801  male_neutral    13  \n",
      "2  5.155108   9.737632  5.322954  5.441654  5.010386  male_neutral    13  \n",
      "3  4.899602  11.436078  5.298542  5.467718  6.130381     male_calm     9  \n",
      "4  6.025843  11.535383  5.581287  4.870696  5.411506     male_calm     9  \n",
      "\n",
      "[5 rows x 42 columns]\n"
     ]
    }
   ],
   "source": [
    "from sklearn.preprocessing import LabelEncoder\n",
    "LE = LabelEncoder()\n",
    "Cov['E_code'] = LE.fit_transform(Cov['Emotion'])\n",
    "Cov.drop('Emotion')\n",
    "print(Cov.head())\n",
    "Cov.to_csv(\"Final_withcolumnsnames.csv\")"
   ]
  },
  {
   "cell_type": "code",
   "execution_count": null,
   "metadata": {},
   "outputs": [],
   "source": []
  }
 ],
 "metadata": {
  "kernelspec": {
   "display_name": "Python 3",
   "language": "python",
   "name": "python3"
  },
  "language_info": {
   "codemirror_mode": {
    "name": "ipython",
    "version": 3
   },
   "file_extension": ".py",
   "mimetype": "text/x-python",
   "name": "python",
   "nbconvert_exporter": "python",
   "pygments_lexer": "ipython3",
   "version": "3.6.7"
  }
 },
 "nbformat": 4,
 "nbformat_minor": 2
}
